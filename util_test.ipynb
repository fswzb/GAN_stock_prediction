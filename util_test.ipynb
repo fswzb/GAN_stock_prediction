{
 "cells": [
  {
   "cell_type": "code",
   "execution_count": 58,
   "id": "individual-patrol",
   "metadata": {},
   "outputs": [],
   "source": [
    "import util\n",
    "import importlib\n",
    "importlib.reload(util)\n",
    "from util import *\n"
   ]
  },
  {
   "cell_type": "code",
   "execution_count": 60,
   "id": "olive-forty",
   "metadata": {},
   "outputs": [
    {
     "name": "stdout",
     "output_type": "stream",
     "text": [
      "47\n",
      "47\n",
      "47\n",
      "47\n",
      "47\n",
      "46\n",
      "46\n",
      "46\n",
      "46\n",
      "46\n"
     ]
    }
   ],
   "source": [
    "data = load_data(\"./data_stock/SP500_average.csv\")\n",
    "grouped_data = group_time_series(6, data)\n",
    "k_fold = k_fold_index_split(len(grouped_data), 10)\n",
    "for fold in k_fold:\n",
    "    print(len(fold))\n",
    "# (djt_input, djt_output) = split_time_series_disjoint(5, 5, data)\n",
    "# print(f'input shape, {input.shape}, output shape, {output.shape}')\n",
    "# merged = merge_time_series(input, output)\n",
    "# standardized = batch_standardize(input)\n",
    "# MA5 = moving_average(data)\n",
    "# print(\"input\",input)\n",
    "# print(\"output\", output)\n",
    "# print(\"djt_input\",djt_input)\n",
    "# print(\"djt_input\", djt_output)\n",
    "# print(\"merged\",merged)\n",
    "# print(\"standardized\", standardized)\n",
    "# print(\"MA5\", MA5)"
   ]
  },
  {
   "cell_type": "code",
   "execution_count": null,
   "id": "referenced-night",
   "metadata": {},
   "outputs": [],
   "source": []
  }
 ],
 "metadata": {
  "kernelspec": {
   "display_name": "Python 3",
   "language": "python",
   "name": "python3"
  },
  "language_info": {
   "codemirror_mode": {
    "name": "ipython",
    "version": 3
   },
   "file_extension": ".py",
   "mimetype": "text/x-python",
   "name": "python",
   "nbconvert_exporter": "python",
   "pygments_lexer": "ipython3",
   "version": "3.8.0"
  }
 },
 "nbformat": 4,
 "nbformat_minor": 5
}
